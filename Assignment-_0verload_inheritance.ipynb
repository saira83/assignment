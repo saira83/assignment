{
 "cells": [
  {
   "cell_type": "code",
   "execution_count": 17,
   "id": "7a7cb43d",
   "metadata": {},
   "outputs": [
    {
     "name": "stdout",
     "output_type": "stream",
     "text": [
      "None\n",
      "None\n",
      "None\n",
      "dark brown\n"
     ]
    }
   ],
   "source": [
    "class Father():\n",
    "    \n",
    "    def __init__(self):\n",
    "        self.name = None\n",
    "        self.fname = None\n",
    "        self.age = None\n",
    "        self.hair_shade = \"dark brown\"\n",
    "    \n",
    "    def speak(self):\n",
    "        return \"i can talk\"\n",
    "    \n",
    "    def setage(self, age):\n",
    "        return \"40 years\"\n",
    "\n",
    "\n",
    "f1 = Father()\n",
    "print(f1.name)\n",
    "print(f1.fname)\n",
    "print(f1.age)\n",
    "print(f1.hair_shade)"
   ]
  },
  {
   "cell_type": "code",
   "execution_count": 18,
   "id": "8493cae3",
   "metadata": {},
   "outputs": [],
   "source": [
    "class Mother():\n",
    "    def __init__(self):\n",
    "        self.height = \"5.6 feet\"\n",
    "        self.skin_color = 'white'\n",
    "    def caring(self):\n",
    "        return \"...\"\n",
    "    \n",
    "    def hard_working(self):\n",
    "        return f\"{hard_working} woman \"\n"
   ]
  },
  {
   "cell_type": "code",
   "execution_count": 19,
   "id": "8ff5ca3f",
   "metadata": {},
   "outputs": [
    {
     "name": "stdout",
     "output_type": "stream",
     "text": [
      "5.6 feet\n",
      "white\n"
     ]
    }
   ],
   "source": [
    "m1 = Mother()\n",
    "print(m1.height)\n",
    "print(m1.skin_color)\n"
   ]
  },
  {
   "cell_type": "code",
   "execution_count": 20,
   "id": "bcfb9906",
   "metadata": {},
   "outputs": [],
   "source": [
    "class child(Mother,Father):\n",
    "     def __init__(self):# create new child constructor\n",
    "        super().__init__() # we call parent's attributes\n",
    "        self.education = 'AI' # additinal attributes\n",
    "        self.game = 'footballer'  # additinal attributes\n"
   ]
  },
  {
   "cell_type": "code",
   "execution_count": 21,
   "id": "df23b51c",
   "metadata": {},
   "outputs": [
    {
     "name": "stdout",
     "output_type": "stream",
     "text": [
      "AI\n",
      "footballer\n"
     ]
    }
   ],
   "source": [
    "c1 = child()\n",
    "print(c1.education)\n",
    "print(c1.game)\n",
    "    "
   ]
  },
  {
   "cell_type": "code",
   "execution_count": 15,
   "id": "53c2fb85",
   "metadata": {},
   "outputs": [
    {
     "name": "stdout",
     "output_type": "stream",
     "text": [
      "['education', 'game', 'height', 'silent', 'skin_color', 'speak']\n"
     ]
    }
   ],
   "source": [
    "c1 = child()\n",
    "print([i for i in dir(c1) if \"__\" not in i])"
   ]
  },
  {
   "cell_type": "markdown",
   "id": "da0d6b1a",
   "metadata": {},
   "source": [
    "# Operator Overloading"
   ]
  },
  {
   "cell_type": "code",
   "execution_count": 36,
   "id": "c661d690",
   "metadata": {},
   "outputs": [
    {
     "name": "stdout",
     "output_type": "stream",
     "text": [
      "200\n"
     ]
    }
   ],
   "source": [
    "class Eatables():\n",
    "    def __init__(self,product,price):\n",
    "        self.product = product\n",
    "        self.price = price\n",
    "        \n",
    "    def __add__(p1,p2):\n",
    "        a = p1.price + p2.price\n",
    "        return a\n",
    "    \n",
    "Eatables1 = Eatables(\"juice\",150)\n",
    "Eatables2 = Eatables(\"cookies\",50)\n",
    "print(Eatables1+Eatables2)"
   ]
  },
  {
   "cell_type": "code",
   "execution_count": null,
   "id": "99c7a69b",
   "metadata": {},
   "outputs": [],
   "source": []
  }
 ],
 "metadata": {
  "kernelspec": {
   "display_name": "Python 3 (ipykernel)",
   "language": "python",
   "name": "python3"
  },
  "language_info": {
   "codemirror_mode": {
    "name": "ipython",
    "version": 3
   },
   "file_extension": ".py",
   "mimetype": "text/x-python",
   "name": "python",
   "nbconvert_exporter": "python",
   "pygments_lexer": "ipython3",
   "version": "3.9.12"
  }
 },
 "nbformat": 4,
 "nbformat_minor": 5
}
